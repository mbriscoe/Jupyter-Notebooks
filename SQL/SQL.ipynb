{
 "cells": [
  {
   "cell_type": "markdown",
   "id": "f577250a",
   "metadata": {},
   "source": [
    "# Company Database Example with PostgreSQL and psycopg2\n",
    "\n",
    "This notebook demonstrates how to create and interact with a PostgreSQL database using Python and the `psycopg2` library. It covers database creation, table setup, data insertion, and common queries, with explanations for each step."
   ]
  },
  {
   "cell_type": "code",
   "execution_count": null,
   "id": "c377896a",
   "metadata": {},
   "outputs": [],
   "source": [
    "import psycopg2\n",
    "import psycopg2.errors\n",
    "import sys\n",
    "\n",
    "# Database connection parameters\n",
    "# Edit these as needed for your environment\n",
    "DB_NAME = 'company'\n",
    "USER = 'postgres'\n",
    "PASSWORD = '1234'\n",
    "HOST = 'localhost'"
   ]
  },
  {
   "cell_type": "markdown",
   "id": "1121e069",
   "metadata": {},
   "source": [
    "**Explanation:**\n",
    "\n",
    "This code block imports the required libraries (`psycopg2` for PostgreSQL access and `sys` for system exit). It also sets up the database connection parameters such as database name, user, password, and host. The database name is now set to `company`. You should update these parameters to match your local PostgreSQL setup."
   ]
  },
  {
   "cell_type": "markdown",
   "id": "35e66574",
   "metadata": {},
   "source": [
    "## 1. Create the Database (if it does not exist)\n",
    "\n",
    "We first connect to the default `postgres` database and attempt to create the `company` database. If it already exists, we continue without error."
   ]
  },
  {
   "cell_type": "code",
   "execution_count": null,
   "id": "58a4d5cd",
   "metadata": {},
   "outputs": [],
   "source": [
    "try:\n",
    "    tmp_conn = psycopg2.connect(dbname='postgres', user=USER, password=PASSWORD, host=HOST)\n",
    "    tmp_conn.set_isolation_level(psycopg2.extensions.ISOLATION_LEVEL_AUTOCOMMIT)\n",
    "    with tmp_conn.cursor() as tmp_cur:\n",
    "        try:\n",
    "            tmp_cur.execute(f\"CREATE DATABASE {DB_NAME};\")\n",
    "            print(f\"Database '{DB_NAME}' created.\")\n",
    "        except psycopg2.errors.DuplicateDatabase:\n",
    "            print(f\"Database '{DB_NAME}' already exists.\")\n",
    "    tmp_conn.close()\n",
    "except Exception as e:\n",
    "    print(f\"Error creating database: {e}\")\n",
    "    sys.exit(1)"
   ]
  },
  {
   "cell_type": "markdown",
   "id": "32efa0ee",
   "metadata": {},
   "source": [
    "**Explanation:**\n",
    "\n",
    "This code block attempts to create the `company` database by connecting to the default `postgres` database. If the database already exists, it catches the error and prints a message. If any other error occurs, it prints the error and exits the notebook. This ensures the target database is available for the rest of the notebook."
   ]
  },
  {
   "cell_type": "markdown",
   "id": "bea06855",
   "metadata": {},
   "source": [
    "## 2. Connect to the Database\n",
    "\n",
    "Now we connect to the `company` database to perform all further operations."
   ]
  },
  {
   "cell_type": "code",
   "execution_count": null,
   "id": "4d5ea286",
   "metadata": {},
   "outputs": [],
   "source": [
    "conn = psycopg2.connect(dbname=DB_NAME, user=USER, password=PASSWORD, host=HOST)\n",
    "cur = conn.cursor()\n",
    "print('Connected to database.')"
   ]
  },
  {
   "cell_type": "markdown",
   "id": "70ded3ea",
   "metadata": {},
   "source": [
    "**Explanation:**\n",
    "\n",
    "This code block connects to the `company` database using the parameters defined earlier. It creates a connection and a cursor object, which are used to execute SQL commands in subsequent cells."
   ]
  },
  {
   "cell_type": "markdown",
   "id": "35195a69",
   "metadata": {},
   "source": [
    "## 3. Create Tables\n",
    "\n",
    "We create the `departments` and `employees` tables if they do not already exist."
   ]
  },
  {
   "cell_type": "code",
   "execution_count": null,
   "id": "2fa5e945",
   "metadata": {},
   "outputs": [],
   "source": [
    "cur.execute('''\n",
    "CREATE TABLE IF NOT EXISTS departments (\n",
    "    id SERIAL PRIMARY KEY,\n",
    "    name VARCHAR(100) NOT NULL\n",
    ");\n",
    "''')\n",
    "\n",
    "cur.execute('''\n",
    "CREATE TABLE IF NOT EXISTS employees (\n",
    "    id SERIAL PRIMARY KEY,\n",
    "    name VARCHAR(100) NOT NULL,\n",
    "    department_id INTEGER REFERENCES departments(id),\n",
    "    position VARCHAR(50),\n",
    "    salary NUMERIC\n",
    ");\n",
    "''')\n",
    "print('Tables created (if not already present).')"
   ]
  },
  {
   "cell_type": "markdown",
   "id": "7271ba88",
   "metadata": {},
   "source": [
    "**Explanation:**\n",
    "\n",
    "This code block creates two tables: `departments` and `employees`. The `departments` table stores department names, and the `employees` table stores employee details, including a foreign key reference to the department. The `IF NOT EXISTS` clause ensures the tables are only created if they do not already exist."
   ]
  },
  {
   "cell_type": "markdown",
   "id": "06ecece2",
   "metadata": {},
   "source": [
    "## 4. Insert Sample Data\n",
    "\n",
    "Insert sample departments and employees. If the data already exists, it will not be duplicated."
   ]
  },
  {
   "cell_type": "code",
   "execution_count": null,
   "id": "248b8a15",
   "metadata": {},
   "outputs": [],
   "source": [
    "cur.execute('''\n",
    "INSERT INTO departments (name) VALUES\n",
    "('Engineering'),\n",
    "('HR'),\n",
    "('Sales'),\n",
    "('Marketing'),\n",
    "('Finance')\n",
    "ON CONFLICT DO NOTHING;\n",
    "''')\n",
    "\n",
    "cur.execute('''\n",
    "INSERT INTO employees (name, department_id, position, salary) VALUES\n",
    "('Alice', 1, 'Engineer', 80000),\n",
    "('Bob', 1, 'Senior Engineer', 95000),\n",
    "('Carol', 2, 'HR Manager', 70000),\n",
    "('Dave', 3, 'Sales Rep', 60000),\n",
    "('Eve', 4, 'Marketing Lead', 72000),\n",
    "('Frank', 1, 'DevOps Engineer', 85000),\n",
    "('Grace', 5, 'Accountant', 65000),\n",
    "('Heidi', 4, 'Content Strategist', 68000),\n",
    "('Ivan', 3, 'Sales Manager', 78000),\n",
    "('Judy', 5, 'Financial Analyst', 70000)\n",
    "ON CONFLICT DO NOTHING;\n",
    "''')\n",
    "print('Sample data inserted.')"
   ]
  },
  {
   "cell_type": "markdown",
   "id": "044469d0",
   "metadata": {},
   "source": [
    "**Explanation:**\n",
    "\n",
    "This code block inserts sample data into the `departments` and `employees` tables. The `ON CONFLICT DO NOTHING` clause prevents duplicate entries if the data already exists. This provides a consistent dataset for running queries and examples in the notebook."
   ]
  },
  {
   "cell_type": "markdown",
   "id": "7599f223",
   "metadata": {},
   "source": [
    "## 5. Query Data\n",
    "\n",
    "Run several example queries to explore the data and relationships."
   ]
  },
  {
   "cell_type": "markdown",
   "id": "47c64c8d",
   "metadata": {},
   "source": [
    "### a. Query employees with their department names"
   ]
  },
  {
   "cell_type": "code",
   "execution_count": null,
   "id": "3ed7af4c",
   "metadata": {},
   "outputs": [],
   "source": [
    "# Query employees with their department names\n",
    "cur.execute('''\n",
    "SELECT e.name AS employee, d.name AS department, e.position, e.salary\n",
    "FROM employees e\n",
    "JOIN departments d ON e.department_id = d.id;\n",
    "''')\n",
    "print('Employees with department:')\n",
    "for row in cur.fetchall():\n",
    "    print(row)"
   ]
  },
  {
   "cell_type": "markdown",
   "id": "59189cdf",
   "metadata": {},
   "source": [
    "**Explanation:**\n",
    "\n",
    "This code block queries all employees, joining the `employees` and `departments` tables to show each employee's name, department, position, and salary. The results are printed row by row."
   ]
  },
  {
   "cell_type": "markdown",
   "id": "d99b9b29",
   "metadata": {},
   "source": [
    "### b. List all employees in the 'Engineering' department"
   ]
  },
  {
   "cell_type": "code",
   "execution_count": null,
   "id": "c9b4cb67",
   "metadata": {},
   "outputs": [],
   "source": [
    "# List all employees in the 'Engineering' department\n",
    "cur.execute('''\n",
    "SELECT name FROM employees\n",
    "WHERE department_id = (SELECT id FROM departments WHERE name = 'Engineering');\n",
    "''')\n",
    "print(\"\\nEmployees in Engineering:\")\n",
    "for row in cur.fetchall():\n",
    "    print(row)"
   ]
  },
  {
   "cell_type": "markdown",
   "id": "c4adb6dc",
   "metadata": {},
   "source": [
    "**Explanation:**\n",
    "\n",
    "This code block lists all employees who work in the 'Engineering' department. It uses a subquery to find the department ID for 'Engineering' and then selects all employees with that department ID."
   ]
  },
  {
   "cell_type": "markdown",
   "id": "0adbd356",
   "metadata": {},
   "source": [
    "### c. Count employees per department"
   ]
  },
  {
   "cell_type": "code",
   "execution_count": null,
   "id": "34ee68b6",
   "metadata": {},
   "outputs": [],
   "source": [
    "# Count employees per department\n",
    "cur.execute('''\n",
    "SELECT d.name AS department, COUNT(e.id) AS num_employees\n",
    "FROM departments d\n",
    "LEFT JOIN employees e ON d.id = e.department_id\n",
    "GROUP BY d.name;\n",
    "''')\n",
    "print(\"\\nEmployee count per department:\")\n",
    "for row in cur.fetchall():\n",
    "    print(row)"
   ]
  },
  {
   "cell_type": "markdown",
   "id": "ec21564c",
   "metadata": {},
   "source": [
    "**Explanation:**\n",
    "\n",
    "This code block counts the number of employees in each department. It uses a LEFT JOIN to include departments with zero employees and groups the results by department name."
   ]
  },
  {
   "cell_type": "markdown",
   "id": "d8089708",
   "metadata": {},
   "source": [
    "### d. Find the highest paid employee in each department"
   ]
  },
  {
   "cell_type": "code",
   "execution_count": null,
   "id": "94f6293f",
   "metadata": {},
   "outputs": [],
   "source": [
    "# Find the highest paid employee in each department\n",
    "cur.execute('''\n",
    "SELECT d.name AS department, e.name AS employee, MAX(e.salary) AS max_salary\n",
    "FROM departments d\n",
    "JOIN employees e ON d.id = e.department_id\n",
    "GROUP BY d.name, e.name\n",
    "ORDER BY d.name, max_salary DESC;\n",
    "''')\n",
    "print(\"\\nHighest paid employee in each department:\")\n",
    "for row in cur.fetchall():\n",
    "    print(row)"
   ]
  },
  {
   "cell_type": "markdown",
   "id": "693c4775",
   "metadata": {},
   "source": [
    "**Explanation:**\n",
    "\n",
    "This code block finds the highest paid employee in each department. It joins the two tables, groups by department and employee, and orders the results by department and salary."
   ]
  },
  {
   "cell_type": "markdown",
   "id": "8d414af3",
   "metadata": {},
   "source": [
    "### e. List employees with salary above 75,000"
   ]
  },
  {
   "cell_type": "code",
   "execution_count": null,
   "id": "5def6dae",
   "metadata": {},
   "outputs": [],
   "source": [
    "# List all employees in the 'Engineering' department\n",
    "cur.execute('''\n",
    "SELECT name FROM employees\n",
    "WHERE department_id = (SELECT id FROM departments WHERE name = 'Engineering');\n",
    "''')\n",
    "print(\"\\nEmployees in Engineering:\")\n",
    "for row in cur.fetchall():\n",
    "    print(row)"
   ]
  },
  {
   "cell_type": "markdown",
   "id": "12e967ab",
   "metadata": {},
   "source": [
    "**Explanation:**\n",
    "\n",
    "This code block lists all employees whose salary is greater than 75,000. It simply selects the name and salary columns for those employees."
   ]
  },
  {
   "cell_type": "markdown",
   "id": "2c01691f",
   "metadata": {},
   "source": [
    "## 6. Update and Delete Data\n",
    "\n",
    "Show how to update and delete records in the database."
   ]
  },
  {
   "cell_type": "code",
   "execution_count": null,
   "id": "2875a6d4",
   "metadata": {},
   "outputs": [],
   "source": [
    "# Change an employee's department\n",
    "cur.execute('''\n",
    "UPDATE employees SET department_id = 2 WHERE name = 'Frank';\n",
    "''')\n",
    "conn.commit()\n",
    "print(\"Frank's department updated to HR.\")\n",
    "\n",
    "# Delete all employees in the Sales department\n",
    "cur.execute('''\n",
    "DELETE FROM employees WHERE department_id = (SELECT id FROM departments WHERE name = 'Sales');\n",
    "''')\n",
    "conn.commit()\n",
    "print(\"All employees in Sales department deleted.\")"
   ]
  },
  {
   "cell_type": "markdown",
   "id": "606d4359",
   "metadata": {},
   "source": [
    "**Explanation:**\n",
    "\n",
    "This code block demonstrates how to update and delete data. It first updates Frank's department to HR, then deletes all employees in the Sales department. The `conn.commit()` calls ensure the changes are saved to the database."
   ]
  },
  {
   "cell_type": "markdown",
   "id": "f7a53b27",
   "metadata": {},
   "source": [
    "## 7. Delete Database & Close the Connection\n",
    "\n",
    "Always close the cursor and connection when finished."
   ]
  },
  {
   "cell_type": "code",
   "execution_count": null,
   "id": "e5759c6a",
   "metadata": {},
   "outputs": [],
   "source": [
    "cur.close()\n",
    "conn.close()\n",
    "print('Database connection closed.')"
   ]
  },
  {
   "cell_type": "markdown",
   "id": "a0fdf129",
   "metadata": {},
   "source": [
    "**Explanation:**\n",
    "\n",
    "This code block closes the cursor and the database connection, releasing all resources. This is good practice to avoid leaving open connections to the database."
   ]
  }
 ],
 "metadata": {
  "kernelspec": {
   "display_name": ".venv",
   "language": "python",
   "name": "python3"
  },
  "language_info": {
   "codemirror_mode": {
    "name": "ipython",
    "version": 3
   },
   "file_extension": ".py",
   "mimetype": "text/x-python",
   "name": "python",
   "nbconvert_exporter": "python",
   "pygments_lexer": "ipython3",
   "version": "3.12.10"
  }
 },
 "nbformat": 4,
 "nbformat_minor": 5
}
